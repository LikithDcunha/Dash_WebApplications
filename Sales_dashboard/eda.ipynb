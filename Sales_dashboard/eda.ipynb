{
 "cells": [
  {
   "cell_type": "markdown",
   "metadata": {},
   "source": [
    "Exploring the data to get answers from data: "
   ]
  },
  {
   "cell_type": "code",
   "execution_count": 2,
   "metadata": {},
   "outputs": [],
   "source": [
    "import pandas as pd\n",
    "import plotly.express as px   \n",
    "import dash \n",
    "from dash import html\n",
    "from dash import dcc \n",
    "from dash.dependencies import Input, Output\n",
    "import os\n"
   ]
  },
  {
   "cell_type": "code",
   "execution_count": 3,
   "metadata": {},
   "outputs": [],
   "source": [
    "def get_dataframes(folder_path = 'Sales_dashboard/sales_extracted_data'):\n",
    "    csv_files = [files for files in os.listdir(folder_path) if files.endswith('.csv')]\n",
    "    dataframes = {}\n",
    "\n",
    "    for csv_file in csv_files:\n",
    "        file_path = os.path.join(folder_path, csv_file)\n",
    "        df = pd.read_csv(file_path)\n",
    "        dataframes[csv_file[:-4]] = df   # Removed '.csv' extension from the key\n",
    "\n",
    "        print(f\"The file '{csv_file}' has been added.\")\n",
    "    \n",
    "    return dataframes\n"
   ]
  },
  {
   "cell_type": "code",
   "execution_count": 4,
   "metadata": {},
   "outputs": [
    {
     "name": "stdout",
     "output_type": "stream",
     "text": [
      "The file 'customers.csv' has been added.\n",
      "The file 'products.csv' has been added.\n",
      "The file 'date.csv' has been added.\n",
      "The file 'markets.csv' has been added.\n",
      "The file 'transactions.csv' has been added.\n"
     ]
    }
   ],
   "source": [
    "sales_data_dict = get_dataframes(folder_path='/Users/lee/Python/Dash_applications/Sales_dashboard/sales_extracted_data')"
   ]
  },
  {
   "cell_type": "code",
   "execution_count": 5,
   "metadata": {},
   "outputs": [
    {
     "data": {
      "text/plain": [
       "dict"
      ]
     },
     "execution_count": 5,
     "metadata": {},
     "output_type": "execute_result"
    }
   ],
   "source": [
    "type(sales_data_dict)"
   ]
  },
  {
   "cell_type": "code",
   "execution_count": 6,
   "metadata": {},
   "outputs": [
    {
     "name": "stdout",
     "output_type": "stream",
     "text": [
      "customers\n",
      "products\n",
      "date\n",
      "markets\n",
      "transactions\n"
     ]
    }
   ],
   "source": [
    "for table_name , table_data in sales_data_dict.items():\n",
    "    print(table_name)\n",
    "    globals()[table_name] = table_data   # getting the dataframes as global variables as 'table_names'"
   ]
  },
  {
   "cell_type": "code",
   "execution_count": 7,
   "metadata": {},
   "outputs": [
    {
     "data": {
      "text/plain": [
       "(148395, 10)"
      ]
     },
     "execution_count": 7,
     "metadata": {},
     "output_type": "execute_result"
    }
   ],
   "source": [
    "transactions.shape"
   ]
  },
  {
   "cell_type": "code",
   "execution_count": 34,
   "metadata": {},
   "outputs": [
    {
     "data": {
      "text/plain": [
       "product_code                  338\n",
       "customer_code                  38\n",
       "market_code                    15\n",
       "order_date                    804\n",
       "sales_qty                     564\n",
       "sales_amount                 7981\n",
       "currency                        2\n",
       "profit_margin_percentage       76\n",
       "profit_margin               51336\n",
       "cost_price                  57024\n",
       "dtype: int64"
      ]
     },
     "execution_count": 34,
     "metadata": {},
     "output_type": "execute_result"
    }
   ],
   "source": [
    "transactions.nunique()"
   ]
  },
  {
   "cell_type": "code",
   "execution_count": null,
   "metadata": {},
   "outputs": [],
   "source": []
  },
  {
   "cell_type": "code",
   "execution_count": null,
   "metadata": {},
   "outputs": [],
   "source": []
  }
 ],
 "metadata": {
  "interpreter": {
   "hash": "aee8b7b246df8f9039afb4144a1f6fd8d2ca17a180786b69acc140d282b71a49"
  },
  "kernelspec": {
   "display_name": "Python 3.10.4 64-bit",
   "language": "python",
   "name": "python3"
  },
  "language_info": {
   "codemirror_mode": {
    "name": "ipython",
    "version": 3
   },
   "file_extension": ".py",
   "mimetype": "text/x-python",
   "name": "python",
   "nbconvert_exporter": "python",
   "pygments_lexer": "ipython3",
   "version": "3.10.4"
  },
  "orig_nbformat": 4
 },
 "nbformat": 4,
 "nbformat_minor": 2
}
